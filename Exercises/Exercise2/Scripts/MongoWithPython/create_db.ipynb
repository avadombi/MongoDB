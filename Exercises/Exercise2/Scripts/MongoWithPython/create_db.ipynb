{
 "cells": [
  {
   "cell_type": "markdown",
   "metadata": {},
   "source": [
    "# Installations"
   ]
  },
  {
   "cell_type": "code",
   "execution_count": null,
   "metadata": {},
   "outputs": [],
   "source": [
    "%pip install pymongo"
   ]
  },
  {
   "cell_type": "markdown",
   "metadata": {},
   "source": [
    "# Connect to our MongoDB server"
   ]
  },
  {
   "cell_type": "code",
   "execution_count": 11,
   "metadata": {},
   "outputs": [
    {
     "name": "stdout",
     "output_type": "stream",
     "text": [
      "4.6.1\n"
     ]
    },
    {
     "data": {
      "text/plain": [
       "InsertOneResult(ObjectId('65b0331f7425f29079af8287'), acknowledged=True)"
      ]
     },
     "execution_count": 11,
     "metadata": {},
     "output_type": "execute_result"
    }
   ],
   "source": [
    "import pymongo as pm\n",
    "print(pymongo.__version__)\n",
    "\n",
    "# connection to our MongoDB server\n",
    "client = pm.MongoClient(\"localhost\", 27017)\n",
    "\n",
    "# create a database\n",
    "db = client.get_database(\"countrY_py_db\")\n",
    "\n",
    "# create a collection\n",
    "collection_countries = db.countries\n",
    "\n",
    "# add a document\n",
    "collection_countries.insert_one(\n",
    "    {\"country_name\": \"Senegal\", \"continent\": \"Africa\"}\n",
    ")\n"
   ]
  },
  {
   "cell_type": "markdown",
   "metadata": {},
   "source": [
    "# Work with an existing database: country_db"
   ]
  },
  {
   "cell_type": "code",
   "execution_count": 27,
   "metadata": {},
   "outputs": [
    {
     "name": "stdout",
     "output_type": "stream",
     "text": [
      "{'_id': ObjectId('65b0154a3ebe4a8949db8fa4'), 'country_name': 'USA', 'continent': 'North America', 'register_date': datetime.datetime(2024, 1, 23, 19, 36, 42, 621000)}\n",
      "{'_id': ObjectId('65b0154a3ebe4a8949db8fa2'), 'country_name': 'Senegal', 'continent': 'Africa', 'register_date': datetime.datetime(2024, 1, 23, 19, 36, 42, 621000)}\n",
      "{'_id': ObjectId('65b0154a3ebe4a8949db8fa5'), 'country_name': 'Mexico', 'continent': 'South America', 'register_date': datetime.datetime(2024, 1, 23, 19, 36, 42, 621000)}\n"
     ]
    }
   ],
   "source": [
    "# get the database country_db\n",
    "db = client.get_database(\"country_db\")\n",
    "\n",
    "# get countries collection\n",
    "countries = db.countries.find().sort({\"country_name\": -1}).limit(3)\n",
    "for country in countries:\n",
    "    print(country)\n"
   ]
  },
  {
   "cell_type": "code",
   "execution_count": 23,
   "metadata": {},
   "outputs": [
    {
     "data": {
      "text/plain": [
       "{'_id': ObjectId('65b013e19c8d2b621b121c59'),\n",
       " 'country_name': 'Canada',\n",
       " 'continent': 'North America',\n",
       " 'register_date': datetime.datetime(2024, 1, 23, 19, 30, 41, 361000)}"
      ]
     },
     "execution_count": 23,
     "metadata": {},
     "output_type": "execute_result"
    }
   ],
   "source": []
  }
 ],
 "metadata": {
  "kernelspec": {
   "display_name": "Python 3",
   "language": "python",
   "name": "python3"
  },
  "language_info": {
   "codemirror_mode": {
    "name": "ipython",
    "version": 3
   },
   "file_extension": ".py",
   "mimetype": "text/x-python",
   "name": "python",
   "nbconvert_exporter": "python",
   "pygments_lexer": "ipython3",
   "version": "3.12.1"
  }
 },
 "nbformat": 4,
 "nbformat_minor": 2
}
